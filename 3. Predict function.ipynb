{
 "cells": [
  {
   "cell_type": "markdown",
   "metadata": {},
   "source": [
    "# Defiine params and lib"
   ]
  },
  {
   "cell_type": "code",
   "execution_count": 1,
   "metadata": {
    "ExecuteTime": {
     "end_time": "2020-04-28T05:29:11.481339Z",
     "start_time": "2020-04-28T05:29:11.338446Z"
    }
   },
   "outputs": [],
   "source": [
    "import requests\n",
    "from io import BytesIO\n",
    "\n",
    "from PIL import Image\n",
    "import numpy as np"
   ]
  },
  {
   "cell_type": "code",
   "execution_count": 3,
   "metadata": {
    "ExecuteTime": {
     "end_time": "2020-04-28T05:29:11.622498Z",
     "start_time": "2020-04-28T05:29:11.619866Z"
    }
   },
   "outputs": [],
   "source": [
    "# Parameters\n",
    "input_size = (160,160)\n",
    "\n",
    "#define input shape\n",
    "channel = (3,)\n",
    "input_shape = input_size + channel\n",
    "\n",
    "#define labels\n",
    "labels = ['daisy', 'dandelion', 'rose', 'sunflower', 'tulip']"
   ]
  },
  {
   "cell_type": "markdown",
   "metadata": {},
   "source": [
    "# Define preprocess function"
   ]
  },
  {
   "cell_type": "code",
   "execution_count": 4,
   "metadata": {
    "ExecuteTime": {
     "end_time": "2020-04-28T05:29:12.252129Z",
     "start_time": "2020-04-28T05:29:12.249482Z"
    }
   },
   "outputs": [],
   "source": [
    "def preprocess(img,input_size):\n",
    "    nimg = img.convert('RGB').resize(input_size, resample= 0)\n",
    "    img_arr = (np.array(nimg))/255\n",
    "    return img_arr\n",
    "\n",
    "def reshape(imgs_arr):\n",
    "    return np.stack(imgs_arr, axis=0)"
   ]
  },
  {
   "cell_type": "markdown",
   "metadata": {},
   "source": [
    "# Load models"
   ]
  },
  {
   "cell_type": "code",
   "execution_count": 5,
   "metadata": {
    "ExecuteTime": {
     "end_time": "2020-04-28T05:29:15.210711Z",
     "start_time": "2020-04-28T05:29:13.027784Z"
    }
   },
   "outputs": [],
   "source": [
    "from tensorflow.keras.models import load_model"
   ]
  },
  {
   "cell_type": "code",
   "execution_count": 6,
   "metadata": {
    "ExecuteTime": {
     "end_time": "2020-04-28T05:29:17.186101Z",
     "start_time": "2020-04-28T05:29:15.961909Z"
    }
   },
   "outputs": [],
   "source": [
    "# ada 2 cara load model, jika cara pertama berhasil maka bisa lasngusng di lanjutkan ke fungsi prediksi\n",
    "\n",
    "MODEL_PATH = 'model/medium_project/model.h5'\n",
    "model = load_model(MODEL_PATH,compile=False)"
   ]
  },
  {
   "cell_type": "code",
   "execution_count": null,
   "metadata": {},
   "outputs": [],
   "source": []
  },
  {
   "cell_type": "markdown",
   "metadata": {},
   "source": [
    "# Predict the image"
   ]
  },
  {
   "cell_type": "code",
   "execution_count": 7,
   "metadata": {
    "ExecuteTime": {
     "end_time": "2020-04-28T05:53:18.906930Z",
     "start_time": "2020-04-28T05:53:18.862643Z"
    }
   },
   "outputs": [
    {
     "name": "stdout",
     "output_type": "stream",
     "text": [
      "tulip 0.92026424\n"
     ]
    }
   ],
   "source": [
    "# read image\n",
    "im = Image.open('contoh_prediksi.jpg')\n",
    "X = preprocess(im,input_size)\n",
    "X = reshape([X])\n",
    "y = model.predict(X)\n",
    "\n",
    "print( labels[np.argmax(y)], np.max(y) )"
   ]
  },
  {
   "cell_type": "code",
   "execution_count": 8,
   "metadata": {
    "ExecuteTime": {
     "end_time": "2020-04-28T05:55:25.943020Z",
     "start_time": "2020-04-28T05:55:25.940623Z"
    }
   },
   "outputs": [
    {
     "data": {
      "text/plain": [
       "array([[7.9548061e-02, 1.8205217e-04, 3.7672000e-06, 1.9034776e-06,\n",
       "        9.2026424e-01]], dtype=float32)"
      ]
     },
     "execution_count": 8,
     "metadata": {},
     "output_type": "execute_result"
    }
   ],
   "source": [
    "y"
   ]
  },
  {
   "cell_type": "code",
   "execution_count": 9,
   "metadata": {
    "ExecuteTime": {
     "end_time": "2020-04-28T05:55:31.926225Z",
     "start_time": "2020-04-28T05:55:31.923969Z"
    }
   },
   "outputs": [
    {
     "name": "stdout",
     "output_type": "stream",
     "text": [
      "tulip 0.92026424\n"
     ]
    }
   ],
   "source": [
    "print( labels[np.argmax(y)], np.max(y) )"
   ]
  },
  {
   "cell_type": "code",
   "execution_count": null,
   "metadata": {},
   "outputs": [],
   "source": []
  },
  {
   "cell_type": "code",
   "execution_count": 10,
   "metadata": {
    "ExecuteTime": {
     "end_time": "2020-04-28T05:38:01.137699Z",
     "start_time": "2020-04-28T05:38:01.057364Z"
    }
   },
   "outputs": [
    {
     "name": "stdout",
     "output_type": "stream",
     "text": [
      "dandelion 0.9999939\n"
     ]
    }
   ],
   "source": [
    "# read image\n",
    "im = Image.open('dataset/train/dandelion/2522454811_f87af57d8b.jpg')\n",
    "X = preprocess(im,input_size)\n",
    "X = reshape([X])\n",
    "y = model.predict(X)\n",
    "\n",
    "print( labels[np.argmax(y)], np.max(y) )"
   ]
  },
  {
   "cell_type": "code",
   "execution_count": null,
   "metadata": {},
   "outputs": [],
   "source": []
  }
 ],
 "metadata": {
  "interpreter": {
   "hash": "ecf5722fdaf1897a315d257d89d94520bfcaa453217d5becf09b39e73618b0de"
  },
  "kernelspec": {
   "display_name": "Python [conda env:tf2]",
   "language": "python",
   "name": "python3"
  },
  "language_info": {
   "codemirror_mode": {
    "name": "ipython",
    "version": 3
   },
   "file_extension": ".py",
   "mimetype": "text/x-python",
   "name": "python",
   "nbconvert_exporter": "python",
   "pygments_lexer": "ipython3",
   "version": "3.9.5"
  },
  "toc": {
   "base_numbering": 1,
   "nav_menu": {},
   "number_sections": true,
   "sideBar": true,
   "skip_h1_title": false,
   "title_cell": "Table of Contents",
   "title_sidebar": "Contents",
   "toc_cell": false,
   "toc_position": {},
   "toc_section_display": true,
   "toc_window_display": false
  },
  "varInspector": {
   "cols": {
    "lenName": 16,
    "lenType": 16,
    "lenVar": 40
   },
   "kernels_config": {
    "python": {
     "delete_cmd_postfix": "",
     "delete_cmd_prefix": "del ",
     "library": "var_list.py",
     "varRefreshCmd": "print(var_dic_list())"
    },
    "r": {
     "delete_cmd_postfix": ") ",
     "delete_cmd_prefix": "rm(",
     "library": "var_list.r",
     "varRefreshCmd": "cat(var_dic_list()) "
    }
   },
   "types_to_exclude": [
    "module",
    "function",
    "builtin_function_or_method",
    "instance",
    "_Feature"
   ],
   "window_display": false
  }
 },
 "nbformat": 4,
 "nbformat_minor": 2
}
